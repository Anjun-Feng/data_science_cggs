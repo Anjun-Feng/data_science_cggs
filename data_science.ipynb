{
 "cells": [
  {
   "cell_type": "markdown",
   "id": "8ba9cf82-dfe2-4f15-b4b9-675931c5cdd6",
   "metadata": {},
   "source": [
    "# Introductrion to Data Science and AI\n",
    "\n",
    "## Lesson 1: Basic Python, Numpy and Pandas\n",
    "\n",
    "Objecbtives:\n",
    "1. Learn basic Python syntax and data manipulation using Numpy and Pandas.\n",
    "2. Perform basic analysis and create simple visualisations."
   ]
  },
  {
   "cell_type": "markdown",
   "id": "1432df22-07ca-43b7-be42-eaa5aeae362f",
   "metadata": {},
   "source": [
    "`array` and for loops"
   ]
  },
  {
   "cell_type": "code",
   "execution_count": 9,
   "id": "981932cc-a1b1-49b3-99da-7b1b5797d652",
   "metadata": {},
   "outputs": [
    {
     "name": "stdout",
     "output_type": "stream",
     "text": [
      "[1, 4, 9, 16, 25]\n"
     ]
    }
   ],
   "source": [
    "## Create an array\n",
    "numbers = [1, 2, 3, 4, 5]\n",
    "\n",
    "## Use a for loop to traverse and array and square its elements\n",
    "squared_numbers = [x**2 for x in numbers]\n",
    "print(squared_numbers)"
   ]
  },
  {
   "cell_type": "markdown",
   "id": "0adb9216-1648-40d9-ba51-6d77c1f2b6e0",
   "metadata": {},
   "source": [
    "**ditionary**"
   ]
  },
  {
   "cell_type": "code",
   "execution_count": null,
   "id": "a15025a1-b8d5-4b03-8556-d49ac8a19836",
   "metadata": {},
   "outputs": [],
   "source": [
    "# Create a dictionary\n",
    "student_grades = {\n",
    "    \"Alice\": 85,\n",
    "    \"Bob\": 78,\n",
    "    \"Charlie\": 92,\n",
    "    \"Diana\": 88\n",
    "}\n",
    "\n",
    "# Loop through the dictionary\n",
    "for student, grade in student_grades.items():\n",
    "    print(f\"{student} scored {grade} marks.\")"
   ]
  },
  {
   "cell_type": "markdown",
   "id": "eebfbd68-cb15-4398-b4b1-1f2a03067607",
   "metadata": {},
   "source": [
    "**Import Numpy and Pandas**"
   ]
  },
  {
   "cell_type": "code",
   "execution_count": 34,
   "id": "85eb81cd-05f7-4d60-8f79-f2b7342b86c9",
   "metadata": {},
   "outputs": [
    {
     "data": {
      "text/html": [
       "<div>\n",
       "<style scoped>\n",
       "    .dataframe tbody tr th:only-of-type {\n",
       "        vertical-align: middle;\n",
       "    }\n",
       "\n",
       "    .dataframe tbody tr th {\n",
       "        vertical-align: top;\n",
       "    }\n",
       "\n",
       "    .dataframe thead th {\n",
       "        text-align: right;\n",
       "    }\n",
       "</style>\n",
       "<table border=\"1\" class=\"dataframe\">\n",
       "  <thead>\n",
       "    <tr style=\"text-align: right;\">\n",
       "      <th></th>\n",
       "      <th>sepal.length</th>\n",
       "      <th>sepal.width</th>\n",
       "      <th>petal.length</th>\n",
       "      <th>petal.width</th>\n",
       "      <th>variety</th>\n",
       "    </tr>\n",
       "  </thead>\n",
       "  <tbody>\n",
       "    <tr>\n",
       "      <th>0</th>\n",
       "      <td>5.1</td>\n",
       "      <td>3.5</td>\n",
       "      <td>1.4</td>\n",
       "      <td>0.2</td>\n",
       "      <td>Setosa</td>\n",
       "    </tr>\n",
       "    <tr>\n",
       "      <th>1</th>\n",
       "      <td>4.9</td>\n",
       "      <td>3.0</td>\n",
       "      <td>1.4</td>\n",
       "      <td>0.2</td>\n",
       "      <td>Setosa</td>\n",
       "    </tr>\n",
       "    <tr>\n",
       "      <th>2</th>\n",
       "      <td>4.7</td>\n",
       "      <td>3.2</td>\n",
       "      <td>1.3</td>\n",
       "      <td>0.2</td>\n",
       "      <td>Setosa</td>\n",
       "    </tr>\n",
       "    <tr>\n",
       "      <th>3</th>\n",
       "      <td>4.6</td>\n",
       "      <td>3.1</td>\n",
       "      <td>1.5</td>\n",
       "      <td>0.2</td>\n",
       "      <td>Setosa</td>\n",
       "    </tr>\n",
       "    <tr>\n",
       "      <th>4</th>\n",
       "      <td>5.0</td>\n",
       "      <td>3.6</td>\n",
       "      <td>1.4</td>\n",
       "      <td>0.2</td>\n",
       "      <td>Setosa</td>\n",
       "    </tr>\n",
       "  </tbody>\n",
       "</table>\n",
       "</div>"
      ],
      "text/plain": [
       "   sepal.length  sepal.width  petal.length  petal.width variety\n",
       "0           5.1          3.5           1.4          0.2  Setosa\n",
       "1           4.9          3.0           1.4          0.2  Setosa\n",
       "2           4.7          3.2           1.3          0.2  Setosa\n",
       "3           4.6          3.1           1.5          0.2  Setosa\n",
       "4           5.0          3.6           1.4          0.2  Setosa"
      ]
     },
     "execution_count": 34,
     "metadata": {},
     "output_type": "execute_result"
    }
   ],
   "source": [
    "# Load dataset\n",
    "iris_data = pd.read_csv('iris.csv')\n",
    "\n",
    "# Display first few rows\n",
    "iris_data.head()"
   ]
  },
  {
   "cell_type": "code",
   "execution_count": null,
   "id": "f937977e-693b-4c68-9ed2-b4d08ca4e0a9",
   "metadata": {},
   "outputs": [],
   "source": []
  }
 ],
 "metadata": {
  "kernelspec": {
   "display_name": "Python 3 (ipykernel)",
   "language": "python",
   "name": "python3"
  },
  "language_info": {
   "codemirror_mode": {
    "name": "ipython",
    "version": 3
   },
   "file_extension": ".py",
   "mimetype": "text/x-python",
   "name": "python",
   "nbconvert_exporter": "python",
   "pygments_lexer": "ipython3",
   "version": "3.12.7"
  }
 },
 "nbformat": 4,
 "nbformat_minor": 5
}
